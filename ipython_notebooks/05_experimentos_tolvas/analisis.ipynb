{
 "cells": [
  {
   "cell_type": "markdown",
   "metadata": {},
   "source": [
    "#Análisis de la importancia del tamaño de la Tolva para la alimentación de la extruora"
   ]
  },
  {
   "cell_type": "markdown",
   "metadata": {},
   "source": [
    "Al intentar conseguir un modelo matemático de la extrusora para intentar cerrar el lazo mediante un PID, se ha comprobado que el sistema en lazo abierto no es lo suficientemente estable y el throughput de la extrusora no es constante. Una hipótesis que se tiene es que la alimentación de la granza en el extrusor no es del todo constante. Por ello una solución que se propone es la de intentar que la alimentación sea constante.\n",
    "\n",
    "Se diseña una tolva que permita meter más granza para comprobar si el peso que ejerce la propia granza en la entrada del alimentador puede ser una posible solución.\n",
    "\n",
    "La tolva diseñada permite introducir hasta un máximo de $150gr$ frente a los $42gr$ de la tolva de serie. Se va a hacer una producción en la que se va a muestrear los datos obtenidos para su posterior análisis.\n"
   ]
  },
  {
   "cell_type": "code",
   "execution_count": 2,
   "metadata": {
    "collapsed": false
   },
   "outputs": [
    {
     "name": "stdout",
     "output_type": "stream",
     "text": [
      "Populating the interactive namespace from numpy and matplotlib\n"
     ]
    }
   ],
   "source": [
    "import numpy as np\n",
    "import pandas as pd\n",
    "import seaborn as sns\n",
    "%pylab inline"
   ]
  },
  {
   "cell_type": "code",
   "execution_count": 3,
   "metadata": {
    "collapsed": false
   },
   "outputs": [
    {
     "name": "stdout",
     "output_type": "stream",
     "text": [
      "Numpy v1.9.2\n",
      "Pandas v0.16.2\n",
      "Seaborn v0.6.0\n"
     ]
    }
   ],
   "source": [
    "print (\"Numpy v{}\".format(np.__version__))\n",
    "print (\"Pandas v{}\".format(pd.__version__))\n",
    "print (\"Seaborn v{}\".format(sns.__version__))"
   ]
  },
  {
   "cell_type": "code",
   "execution_count": 4,
   "metadata": {
    "collapsed": false
   },
   "outputs": [],
   "source": [
    "#Abrimos los ficheros con los datos de las pruebas\n",
    "#Tolva pequeña\n",
    "data_p1 = pd.read_csv('prueba1.CSV')\n",
    "#Tolva Graned\n",
    "data_p2 = pd.read_csv('prueba2.CSV')"
   ]
  },
  {
   "cell_type": "code",
   "execution_count": 5,
   "metadata": {
    "collapsed": false,
    "scrolled": true
   },
   "outputs": [],
   "source": [
    "#El ensayo se realizo a distintas velocidades, se filtran los datos por\n",
    "#velocidad rápida= v1 = 4.42mm/s\n",
    "#velocidad lenta= v2 = 3.816mm/s\n",
    "#Filtramos los datos con velocidad de tracción rápida\n",
    "data_p1_v1 = data_p1[(data_p1['RPM TRAC'] >= 4) & (data_p1['RPM TRAC'] <= 4.42)]\n",
    "data_p2_v1 = data_p2[(data_p2['RPM TRAC'] >= 4) & (data_p2['RPM TRAC'] <= 4.42)]\n",
    "#Filtramos los datos con velocidad de tracción lenta\n",
    "data_p1_v2 = data_p1[(data_p1['RPM TRAC'] > 0) & (data_p1['RPM TRAC'] <= 3.816)]\n",
    "data_p2_v2 = data_p2[(data_p2['RPM TRAC'] > 0) & (data_p2['RPM TRAC'] <= 3.816)]"
   ]
  },
  {
   "cell_type": "code",
   "execution_count": 10,
   "metadata": {
    "collapsed": false
   },
   "outputs": [
    {
     "data": {
      "text/html": [
       "<div>\n",
       "<table border=\"1\" class=\"dataframe\">\n",
       "  <thead>\n",
       "    <tr style=\"text-align: right;\">\n",
       "      <th></th>\n",
       "      <th>Tolva Grande</th>\n",
       "      <th>Tolva pequeña</th>\n",
       "    </tr>\n",
       "  </thead>\n",
       "  <tbody>\n",
       "    <tr>\n",
       "      <th>count</th>\n",
       "      <td>2000.000000</td>\n",
       "      <td>2000.000000</td>\n",
       "    </tr>\n",
       "    <tr>\n",
       "      <th>mean</th>\n",
       "      <td>1.630594</td>\n",
       "      <td>1.558390</td>\n",
       "    </tr>\n",
       "    <tr>\n",
       "      <th>std</th>\n",
       "      <td>0.140171</td>\n",
       "      <td>0.153613</td>\n",
       "    </tr>\n",
       "    <tr>\n",
       "      <th>min</th>\n",
       "      <td>1.023350</td>\n",
       "      <td>0.010000</td>\n",
       "    </tr>\n",
       "    <tr>\n",
       "      <th>25%</th>\n",
       "      <td>1.562434</td>\n",
       "      <td>1.460000</td>\n",
       "    </tr>\n",
       "    <tr>\n",
       "      <th>50%</th>\n",
       "      <td>1.642723</td>\n",
       "      <td>1.550000</td>\n",
       "    </tr>\n",
       "    <tr>\n",
       "      <th>75%</th>\n",
       "      <td>1.711542</td>\n",
       "      <td>1.630000</td>\n",
       "    </tr>\n",
       "    <tr>\n",
       "      <th>max</th>\n",
       "      <td>2.204747</td>\n",
       "      <td>2.400000</td>\n",
       "    </tr>\n",
       "  </tbody>\n",
       "</table>\n",
       "</div>"
      ],
      "text/plain": [
       "       Tolva Grande  Tolva pequeña\n",
       "count   2000.000000    2000.000000\n",
       "mean       1.630594       1.558390\n",
       "std        0.140171       0.153613\n",
       "min        1.023350       0.010000\n",
       "25%        1.562434       1.460000\n",
       "50%        1.642723       1.550000\n",
       "75%        1.711542       1.630000\n",
       "max        2.204747       2.400000"
      ]
     },
     "execution_count": 10,
     "metadata": {},
     "output_type": "execute_result"
    },
    {
     "data": {
      "image/png": "[encoded data removed]",
      "text/plain": [
       "<matplotlib.figure.Figure at 0x8e62fb0>"
      ]
     },
     "metadata": {},
     "output_type": "display_data"
    }
   ],
   "source": [
    "#d ={'Tolva pequeña V1':data_p1_v1.ix[:,\"Diametro X\"],'Tolva Grande V1':data_p2_v1.ix[:,\"Diametro X\"],'Tolva pequeña V2':data_p1_v2.ix[:,\"Diametro X\"],'Tolva Grande V2':data_p2_v2.ix[:,\"Diametro X\"]}\n",
    "d ={'Tolva pequeña':data_p1.ix[:,\"Diametro X\"],'Tolva Grande':data_p2.ix[:,\"Diametro X\"]}\n",
    "da = pd.DataFrame(data=d)\n",
    "graf = da.boxplot(return_type='axes')\n",
    "graf.axhspan(1.65,1.85, alpha=0.2)\n",
    "da.describe()"
   ]
  },
  {
   "cell_type": "code",
   "execution_count": null,
   "metadata": {
    "collapsed": false
   },
   "outputs": [],
   "source": [
    "graf=da.plot(figsize=(20,10))\n",
    "graf.axhspan(1.65,1.85, alpha=0.2)"
   ]
  },
  {
   "cell_type": "markdown",
   "metadata": {},
   "source": [
    "Histrogram of the ratio"
   ]
  },
  {
   "cell_type": "code",
   "execution_count": null,
   "metadata": {
    "collapsed": false
   },
   "outputs": [],
   "source": [
    "da.hist(bins=50)"
   ]
  }
 ],
 "metadata": {
  "kernelspec": {
   "display_name": "Python 3",
   "language": "python",
   "name": "python3"
  },
  "language_info": {
   "codemirror_mode": {
    "name": "ipython",
    "version": 3
   },
   "file_extension": ".py",
   "mimetype": "text/x-python",
   "name": "python",
   "nbconvert_exporter": "python",
   "pygments_lexer": "ipython3",
   "version": "3.4.2"
  }
 },
 "nbformat": 4,
 "nbformat_minor": 0
}
